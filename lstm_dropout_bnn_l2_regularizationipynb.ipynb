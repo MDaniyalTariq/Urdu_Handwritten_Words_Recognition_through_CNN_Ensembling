{
  "nbformat": 4,
  "nbformat_minor": 0,
  "metadata": {
    "colab": {
      "provenance": [],
      "authorship_tag": "ABX9TyOATmQhXkf4tc6kFzcnA82A",
      "include_colab_link": true
    },
    "kernelspec": {
      "name": "python3",
      "display_name": "Python 3"
    },
    "language_info": {
      "name": "python"
    }
  },
  "cells": [
    {
      "cell_type": "markdown",
      "metadata": {
        "id": "view-in-github",
        "colab_type": "text"
      },
      "source": [
        "<a href=\"https://colab.research.google.com/github/MDaniyalTariq/Urdu_Handwritten_Words_Recognition_through_CNN_Ensembling/blob/main/lstm_dropout_bnn_l2_regularizationipynb.ipynb\" target=\"_parent\"><img src=\"https://colab.research.google.com/assets/colab-badge.svg\" alt=\"Open In Colab\"/></a>"
      ]
    },
    {
      "cell_type": "code",
      "source": [],
      "metadata": {
        "id": "27azSgkP2Lc_"
      },
      "execution_count": null,
      "outputs": []
    },
    {
      "cell_type": "code",
      "execution_count": null,
      "metadata": {
        "colab": {
          "base_uri": "https://localhost:8080/",
          "height": 567
        },
        "collapsed": true,
        "id": "Q7YfOnXX2Iy6",
        "outputId": "f87a78fa-c174-4ddf-a4d2-9370a64e55f3"
      },
      "outputs": [
        {
          "output_type": "stream",
          "name": "stderr",
          "text": [
            "/usr/local/lib/python3.11/dist-packages/keras/src/layers/rnn/rnn.py:204: UserWarning: Do not pass an `input_shape`/`input_dim` argument to a layer. When using Sequential models, prefer using an `Input(shape)` object as the first layer in the model instead.\n",
            "  super().__init__(**kwargs)\n"
          ]
        },
        {
          "output_type": "display_data",
          "data": {
            "text/plain": [
              "\u001b[1mModel: \"sequential_1\"\u001b[0m\n"
            ],
            "text/html": [
              "<pre style=\"white-space:pre;overflow-x:auto;line-height:normal;font-family:Menlo,'DejaVu Sans Mono',consolas,'Courier New',monospace\"><span style=\"font-weight: bold\">Model: \"sequential_1\"</span>\n",
              "</pre>\n"
            ]
          },
          "metadata": {}
        },
        {
          "output_type": "display_data",
          "data": {
            "text/plain": [
              "┏━━━━━━━━━━━━━━━━━━━━━━━━━━━━━━━━━━━━━━┳━━━━━━━━━━━━━━━━━━━━━━━━━━━━━┳━━━━━━━━━━━━━━━━━┓\n",
              "┃\u001b[1m \u001b[0m\u001b[1mLayer (type)                        \u001b[0m\u001b[1m \u001b[0m┃\u001b[1m \u001b[0m\u001b[1mOutput Shape               \u001b[0m\u001b[1m \u001b[0m┃\u001b[1m \u001b[0m\u001b[1m        Param #\u001b[0m\u001b[1m \u001b[0m┃\n",
              "┡━━━━━━━━━━━━━━━━━━━━━━━━━━━━━━━━━━━━━━╇━━━━━━━━━━━━━━━━━━━━━━━━━━━━━╇━━━━━━━━━━━━━━━━━┩\n",
              "│ lstm_2 (\u001b[38;5;33mLSTM\u001b[0m)                        │ (\u001b[38;5;45mNone\u001b[0m, \u001b[38;5;34m50\u001b[0m, \u001b[38;5;34m128\u001b[0m)             │          \u001b[38;5;34m67,584\u001b[0m │\n",
              "├──────────────────────────────────────┼─────────────────────────────┼─────────────────┤\n",
              "│ batch_normalization_2                │ (\u001b[38;5;45mNone\u001b[0m, \u001b[38;5;34m50\u001b[0m, \u001b[38;5;34m128\u001b[0m)             │             \u001b[38;5;34m512\u001b[0m │\n",
              "│ (\u001b[38;5;33mBatchNormalization\u001b[0m)                 │                             │                 │\n",
              "├──────────────────────────────────────┼─────────────────────────────┼─────────────────┤\n",
              "│ dropout_2 (\u001b[38;5;33mDropout\u001b[0m)                  │ (\u001b[38;5;45mNone\u001b[0m, \u001b[38;5;34m50\u001b[0m, \u001b[38;5;34m128\u001b[0m)             │               \u001b[38;5;34m0\u001b[0m │\n",
              "├──────────────────────────────────────┼─────────────────────────────┼─────────────────┤\n",
              "│ lstm_3 (\u001b[38;5;33mLSTM\u001b[0m)                        │ (\u001b[38;5;45mNone\u001b[0m, \u001b[38;5;34m64\u001b[0m)                  │          \u001b[38;5;34m49,408\u001b[0m │\n",
              "├──────────────────────────────────────┼─────────────────────────────┼─────────────────┤\n",
              "│ batch_normalization_3                │ (\u001b[38;5;45mNone\u001b[0m, \u001b[38;5;34m64\u001b[0m)                  │             \u001b[38;5;34m256\u001b[0m │\n",
              "│ (\u001b[38;5;33mBatchNormalization\u001b[0m)                 │                             │                 │\n",
              "├──────────────────────────────────────┼─────────────────────────────┼─────────────────┤\n",
              "│ dropout_3 (\u001b[38;5;33mDropout\u001b[0m)                  │ (\u001b[38;5;45mNone\u001b[0m, \u001b[38;5;34m64\u001b[0m)                  │               \u001b[38;5;34m0\u001b[0m │\n",
              "├──────────────────────────────────────┼─────────────────────────────┼─────────────────┤\n",
              "│ dense_1 (\u001b[38;5;33mDense\u001b[0m)                      │ (\u001b[38;5;45mNone\u001b[0m, \u001b[38;5;34m35\u001b[0m)                  │           \u001b[38;5;34m2,275\u001b[0m │\n",
              "└──────────────────────────────────────┴─────────────────────────────┴─────────────────┘\n"
            ],
            "text/html": [
              "<pre style=\"white-space:pre;overflow-x:auto;line-height:normal;font-family:Menlo,'DejaVu Sans Mono',consolas,'Courier New',monospace\">┏━━━━━━━━━━━━━━━━━━━━━━━━━━━━━━━━━━━━━━┳━━━━━━━━━━━━━━━━━━━━━━━━━━━━━┳━━━━━━━━━━━━━━━━━┓\n",
              "┃<span style=\"font-weight: bold\"> Layer (type)                         </span>┃<span style=\"font-weight: bold\"> Output Shape                </span>┃<span style=\"font-weight: bold\">         Param # </span>┃\n",
              "┡━━━━━━━━━━━━━━━━━━━━━━━━━━━━━━━━━━━━━━╇━━━━━━━━━━━━━━━━━━━━━━━━━━━━━╇━━━━━━━━━━━━━━━━━┩\n",
              "│ lstm_2 (<span style=\"color: #0087ff; text-decoration-color: #0087ff\">LSTM</span>)                        │ (<span style=\"color: #00d7ff; text-decoration-color: #00d7ff\">None</span>, <span style=\"color: #00af00; text-decoration-color: #00af00\">50</span>, <span style=\"color: #00af00; text-decoration-color: #00af00\">128</span>)             │          <span style=\"color: #00af00; text-decoration-color: #00af00\">67,584</span> │\n",
              "├──────────────────────────────────────┼─────────────────────────────┼─────────────────┤\n",
              "│ batch_normalization_2                │ (<span style=\"color: #00d7ff; text-decoration-color: #00d7ff\">None</span>, <span style=\"color: #00af00; text-decoration-color: #00af00\">50</span>, <span style=\"color: #00af00; text-decoration-color: #00af00\">128</span>)             │             <span style=\"color: #00af00; text-decoration-color: #00af00\">512</span> │\n",
              "│ (<span style=\"color: #0087ff; text-decoration-color: #0087ff\">BatchNormalization</span>)                 │                             │                 │\n",
              "├──────────────────────────────────────┼─────────────────────────────┼─────────────────┤\n",
              "│ dropout_2 (<span style=\"color: #0087ff; text-decoration-color: #0087ff\">Dropout</span>)                  │ (<span style=\"color: #00d7ff; text-decoration-color: #00d7ff\">None</span>, <span style=\"color: #00af00; text-decoration-color: #00af00\">50</span>, <span style=\"color: #00af00; text-decoration-color: #00af00\">128</span>)             │               <span style=\"color: #00af00; text-decoration-color: #00af00\">0</span> │\n",
              "├──────────────────────────────────────┼─────────────────────────────┼─────────────────┤\n",
              "│ lstm_3 (<span style=\"color: #0087ff; text-decoration-color: #0087ff\">LSTM</span>)                        │ (<span style=\"color: #00d7ff; text-decoration-color: #00d7ff\">None</span>, <span style=\"color: #00af00; text-decoration-color: #00af00\">64</span>)                  │          <span style=\"color: #00af00; text-decoration-color: #00af00\">49,408</span> │\n",
              "├──────────────────────────────────────┼─────────────────────────────┼─────────────────┤\n",
              "│ batch_normalization_3                │ (<span style=\"color: #00d7ff; text-decoration-color: #00d7ff\">None</span>, <span style=\"color: #00af00; text-decoration-color: #00af00\">64</span>)                  │             <span style=\"color: #00af00; text-decoration-color: #00af00\">256</span> │\n",
              "│ (<span style=\"color: #0087ff; text-decoration-color: #0087ff\">BatchNormalization</span>)                 │                             │                 │\n",
              "├──────────────────────────────────────┼─────────────────────────────┼─────────────────┤\n",
              "│ dropout_3 (<span style=\"color: #0087ff; text-decoration-color: #0087ff\">Dropout</span>)                  │ (<span style=\"color: #00d7ff; text-decoration-color: #00d7ff\">None</span>, <span style=\"color: #00af00; text-decoration-color: #00af00\">64</span>)                  │               <span style=\"color: #00af00; text-decoration-color: #00af00\">0</span> │\n",
              "├──────────────────────────────────────┼─────────────────────────────┼─────────────────┤\n",
              "│ dense_1 (<span style=\"color: #0087ff; text-decoration-color: #0087ff\">Dense</span>)                      │ (<span style=\"color: #00d7ff; text-decoration-color: #00d7ff\">None</span>, <span style=\"color: #00af00; text-decoration-color: #00af00\">35</span>)                  │           <span style=\"color: #00af00; text-decoration-color: #00af00\">2,275</span> │\n",
              "└──────────────────────────────────────┴─────────────────────────────┴─────────────────┘\n",
              "</pre>\n"
            ]
          },
          "metadata": {}
        },
        {
          "output_type": "display_data",
          "data": {
            "text/plain": [
              "\u001b[1m Total params: \u001b[0m\u001b[38;5;34m120,035\u001b[0m (468.89 KB)\n"
            ],
            "text/html": [
              "<pre style=\"white-space:pre;overflow-x:auto;line-height:normal;font-family:Menlo,'DejaVu Sans Mono',consolas,'Courier New',monospace\"><span style=\"font-weight: bold\"> Total params: </span><span style=\"color: #00af00; text-decoration-color: #00af00\">120,035</span> (468.89 KB)\n",
              "</pre>\n"
            ]
          },
          "metadata": {}
        },
        {
          "output_type": "display_data",
          "data": {
            "text/plain": [
              "\u001b[1m Trainable params: \u001b[0m\u001b[38;5;34m119,651\u001b[0m (467.39 KB)\n"
            ],
            "text/html": [
              "<pre style=\"white-space:pre;overflow-x:auto;line-height:normal;font-family:Menlo,'DejaVu Sans Mono',consolas,'Courier New',monospace\"><span style=\"font-weight: bold\"> Trainable params: </span><span style=\"color: #00af00; text-decoration-color: #00af00\">119,651</span> (467.39 KB)\n",
              "</pre>\n"
            ]
          },
          "metadata": {}
        },
        {
          "output_type": "display_data",
          "data": {
            "text/plain": [
              "\u001b[1m Non-trainable params: \u001b[0m\u001b[38;5;34m384\u001b[0m (1.50 KB)\n"
            ],
            "text/html": [
              "<pre style=\"white-space:pre;overflow-x:auto;line-height:normal;font-family:Menlo,'DejaVu Sans Mono',consolas,'Courier New',monospace\"><span style=\"font-weight: bold\"> Non-trainable params: </span><span style=\"color: #00af00; text-decoration-color: #00af00\">384</span> (1.50 KB)\n",
              "</pre>\n"
            ]
          },
          "metadata": {}
        },
        {
          "output_type": "stream",
          "name": "stdout",
          "text": [
            "Epoch 1/50\n",
            "\u001b[1m2263/2263\u001b[0m \u001b[32m━━━━━━━━━━━━━━━━━━━━\u001b[0m\u001b[37m\u001b[0m \u001b[1m238s\u001b[0m 103ms/step - accuracy: 0.0500 - loss: 4.0870 - val_accuracy: 0.0663 - val_loss: 3.4048\n",
            "Epoch 2/50\n",
            "\u001b[1m2263/2263\u001b[0m \u001b[32m━━━━━━━━━━━━━━━━━━━━\u001b[0m\u001b[37m\u001b[0m \u001b[1m264s\u001b[0m 103ms/step - accuracy: 0.0760 - loss: 3.3081 - val_accuracy: 0.0690 - val_loss: 3.3602\n",
            "Epoch 3/50\n",
            "\u001b[1m1774/2263\u001b[0m \u001b[32m━━━━━━━━━━━━━━━\u001b[0m\u001b[37m━━━━━\u001b[0m \u001b[1m46s\u001b[0m 95ms/step - accuracy: 0.0854 - loss: 3.2473"
          ]
        }
      ],
      "source": [
        "import os\n",
        "import json\n",
        "import numpy as np\n",
        "from tensorflow.keras.preprocessing.sequence import pad_sequences\n",
        "from sklearn.preprocessing import LabelEncoder\n",
        "from tensorflow.keras.utils import to_categorical\n",
        "from tensorflow.keras.models import Sequential, load_model\n",
        "from tensorflow.keras.layers import LSTM, Dense, Dropout, BatchNormalization\n",
        "from sklearn.model_selection import train_test_split\n",
        "from tensorflow.keras.callbacks import EarlyStopping, ModelCheckpoint\n",
        "from tensorflow.keras.regularizers import l2\n",
        "\n",
        "# Function to load and process the data\n",
        "def load_data_from_directory(directory_path):\n",
        "    data = []\n",
        "    labels = []\n",
        "\n",
        "    # Iterate over each file in the directory\n",
        "    for filename in os.listdir(directory_path):\n",
        "        if filename.endswith(\".json\"):\n",
        "            file_path = os.path.join(directory_path, filename)\n",
        "\n",
        "            # Load the data from the JSON file\n",
        "            with open(file_path, \"r\") as f:\n",
        "                file_data = json.load(f)\n",
        "\n",
        "            # Extract sequences from the file\n",
        "            sequences = []\n",
        "            for character_variation in file_data:\n",
        "                for i in range(0, len(character_variation), 5):  # Create sequences with 5 time steps\n",
        "                    sequence = character_variation[i:i+5]\n",
        "                    if len(sequence) == 5:\n",
        "                        # Extract dx, dy, and timestamp from the dictionary and flatten into a list\n",
        "                        flattened_sequence = [[point['dx'], point['dy'], point['timestamp']] for point in sequence]\n",
        "                        sequences.append(flattened_sequence)\n",
        "\n",
        "            # Add the sequences to the data list and label (filename without .json) to the labels list\n",
        "            data.extend(sequences)\n",
        "            labels.extend([filename.replace(\".json\", \"\")] * len(sequences))  # File name is the label\n",
        "\n",
        "    return data, labels\n",
        "\n",
        "# Preprocess the data (pad sequences and encode labels)\n",
        "def preprocess_data(data, labels, sequence_length=50):\n",
        "    # Pad or truncate sequences to make them of equal length\n",
        "    sequences = pad_sequences(data, maxlen=sequence_length, dtype='float32', padding='post', truncating='post')\n",
        "\n",
        "    # Encode the labels (character names)\n",
        "    label_encoder = LabelEncoder()\n",
        "    labels_encoded = label_encoder.fit_transform(labels)\n",
        "    labels_encoded = to_categorical(labels_encoded)  # One-hot encoding\n",
        "\n",
        "    return np.array(sequences), np.array(labels_encoded), label_encoder\n",
        "\n",
        "# Function to export the trained model\n",
        "def save_model(model, model_path=\"trained_model.h5\"):\n",
        "    model.save(model_path)\n",
        "    print(f\"Model saved to {model_path}\")\n",
        "\n",
        "# Function to load the model\n",
        "def load_trained_model(model_path=\"trained_model.h5\"):\n",
        "    return load_model(model_path)\n",
        "\n",
        "# Main function to load, preprocess, and train the model\n",
        "def main():\n",
        "    # Load the data from your directory\n",
        "    directory_path = \"/content/dataset/json\"\n",
        "    data, labels = load_data_from_directory(directory_path)\n",
        "\n",
        "    # Preprocess the data\n",
        "    sequences, labels_encoded, label_encoder = preprocess_data(data, labels)\n",
        "\n",
        "    # Split the data into training and testing sets\n",
        "    X_train, X_test, y_train, y_test = train_test_split(sequences, labels_encoded, test_size=0.2, random_state=42)\n",
        "\n",
        "    # Example model (LSTM with BatchNormalization, Dropout, and L2 regularization)\n",
        "    model = Sequential([\n",
        "        LSTM(128, input_shape=(X_train.shape[1], X_train.shape[2]), return_sequences=True,\n",
        "             kernel_regularizer=l2(0.01)),  # Add L2 regularization\n",
        "        BatchNormalization(),\n",
        "        Dropout(0.3),  # Increase dropout to avoid overfitting\n",
        "        LSTM(64, kernel_regularizer=l2(0.01)),\n",
        "        BatchNormalization(),\n",
        "        Dropout(0.3),\n",
        "        Dense(len(label_encoder.classes_), activation=\"softmax\")\n",
        "    ])\n",
        "\n",
        "    model.compile(optimizer='adam', loss='categorical_crossentropy', metrics=['accuracy'])\n",
        "    model.summary()\n",
        "\n",
        "    # Early stopping to prevent overfitting\n",
        "    early_stopping = EarlyStopping(monitor='val_loss', patience=5, restore_best_weights=True)\n",
        "\n",
        "    # Model checkpoint to save the best model\n",
        "\n",
        "    model_checkpoint = ModelCheckpoint('best_model.keras', monitor='val_loss', save_best_only=True)\n",
        "\n",
        "    # Train the model with early stopping and model checkpointing\n",
        "    model.fit(X_train, y_train, epochs=50, batch_size=32, validation_data=(X_test, y_test),\n",
        "              callbacks=[early_stopping, model_checkpoint])\n",
        "\n",
        "    # Save the trained model\n",
        "    save_model(model)\n",
        "\n",
        "    # Save label encoder\n",
        "    import joblib\n",
        "    joblib.dump(label_encoder, \"label_encoder.pkl\")\n",
        "\n",
        "# Function to predict a character from user input\n",
        "def predict_character(user_input, model, label_encoder, sequence_length=50):\n",
        "    \"\"\"\n",
        "    Predict the character based on the user input.\n",
        "    :param user_input: List of dictionaries containing 'dx', 'dy', 'timestamp'.\n",
        "    :param model: Trained model to use for predictions.\n",
        "    :param label_encoder: Label encoder to decode predictions into characters.\n",
        "    :param sequence_length: The sequence length for padding/truncating.\n",
        "    :return: Predicted character label.\n",
        "    \"\"\"\n",
        "    # Preprocess the user input\n",
        "    flattened_input = [[point['dx'], point['dy'], point['timestamp']] for point in user_input]\n",
        "    padded_input = pad_sequences([flattened_input], maxlen=sequence_length, dtype='float32', padding='post', truncating='post')\n",
        "\n",
        "    # Make the prediction\n",
        "    prediction = model.predict(padded_input)\n",
        "\n",
        "    # Get the class index with the highest probability\n",
        "    predicted_class_index = np.argmax(prediction)\n",
        "\n",
        "    # Decode the class index to the actual character label\n",
        "    predicted_character = label_encoder.inverse_transform([predicted_class_index])[0]\n",
        "\n",
        "    return predicted_character\n",
        "\n",
        "# Example of how to use the prediction function\n",
        "if __name__ == \"__main__\":\n",
        "    # Train and save the model first\n",
        "    main()\n",
        "\n",
        "    # Load the saved model and label encoder\n",
        "    model = load_trained_model(\"best_model.h5\")\n",
        "    label_encoder = joblib.load(\"label_encoder.pkl\")\n",
        "\n",
        "    # Sample user input (list of dictionaries with 'dx', 'dy', 'timestamp')\n",
        "    user_input = [\n",
        "        {\"dx\": 198.5, \"dy\": 97, \"timestamp\": 0},\n",
        "        {\"dx\": 198.5, \"dy\": 97, \"timestamp\": 1},\n",
        "        {\"dx\": 198.5, \"dy\": 97, \"timestamp\": 26},\n",
        "        {\"dx\": 198.5, \"dy\": 97, \"timestamp\": 26},\n",
        "        {\"dx\": 198.5, \"dy\": 97, \"timestamp\": 50},\n",
        "    ]\n",
        "\n",
        "    # Predict the character\n",
        "    predicted_character = predict_character(user_input, model, label_encoder)\n",
        "\n",
        "    # Print the predicted character\n",
        "    print(f\"Predicted Character: {predicted_character}\")\n"
      ]
    }
  ]
}