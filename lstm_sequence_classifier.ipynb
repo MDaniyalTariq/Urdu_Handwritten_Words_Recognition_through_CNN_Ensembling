{
  "nbformat": 4,
  "nbformat_minor": 0,
  "metadata": {
    "colab": {
      "provenance": [],
      "authorship_tag": "ABX9TyMEcW91hipnEJIEo/Tiv0XE",
      "include_colab_link": true
    },
    "kernelspec": {
      "name": "python3",
      "display_name": "Python 3"
    },
    "language_info": {
      "name": "python"
    }
  },
  "cells": [
    {
      "cell_type": "markdown",
      "metadata": {
        "id": "view-in-github",
        "colab_type": "text"
      },
      "source": [
        "<a href=\"https://colab.research.google.com/github/MDaniyalTariq/Urdu_Handwritten_Words_Recognition_through_CNN_Ensembling/blob/main/lstm_sequence_classifier.ipynb\" target=\"_parent\"><img src=\"https://colab.research.google.com/assets/colab-badge.svg\" alt=\"Open In Colab\"/></a>"
      ]
    },
    {
      "cell_type": "code",
      "source": [
        "import os\n",
        "import json\n",
        "import numpy as np\n",
        "from tensorflow.keras.preprocessing.sequence import pad_sequences\n",
        "from sklearn.preprocessing import LabelEncoder\n",
        "from tensorflow.keras.utils import to_categorical\n",
        "from tensorflow.keras.models import Sequential, load_model\n",
        "from tensorflow.keras.layers import LSTM, Dense, Dropout\n",
        "from sklearn.model_selection import train_test_split\n",
        "\n",
        "# Function to load and process the data\n",
        "def load_data_from_directory(directory_path):\n",
        "    data = []\n",
        "    labels = []\n",
        "\n",
        "    # Iterate over each file in the directory\n",
        "    for filename in os.listdir(directory_path):\n",
        "        if filename.endswith(\".json\"):\n",
        "            file_path = os.path.join(directory_path, filename)\n",
        "\n",
        "            # Load the data from the JSON file\n",
        "            with open(file_path, \"r\") as f:\n",
        "                file_data = json.load(f)\n",
        "\n",
        "            # Extract sequences from the file\n",
        "            sequences = []\n",
        "            for character_variation in file_data:\n",
        "                for i in range(0, len(character_variation), 5):  # Create sequences with 5 time steps\n",
        "                    sequence = character_variation[i:i+5]\n",
        "                    if len(sequence) == 5:\n",
        "                        # Extract dx, dy, and timestamp from the dictionary and flatten into a list\n",
        "                        flattened_sequence = [[point['dx'], point['dy'], point['timestamp']] for point in sequence]\n",
        "                        sequences.append(flattened_sequence)\n",
        "\n",
        "            # Add the sequences to the data list and label (filename without .json) to the labels list\n",
        "            data.extend(sequences)\n",
        "            labels.extend([filename.replace(\".json\", \"\")] * len(sequences))  # File name is the label\n",
        "\n",
        "    return data, labels\n",
        "\n",
        "# Preprocess the data (pad sequences and encode labels)\n",
        "def preprocess_data(data, labels, sequence_length=50):\n",
        "    # Pad or truncate sequences to make them of equal length\n",
        "    sequences = pad_sequences(data, maxlen=sequence_length, dtype='float32', padding='post', truncating='post')\n",
        "\n",
        "    # Encode the labels (character names)\n",
        "    label_encoder = LabelEncoder()\n",
        "    labels_encoded = label_encoder.fit_transform(labels)\n",
        "    labels_encoded = to_categorical(labels_encoded)  # One-hot encoding\n",
        "\n",
        "    return np.array(sequences), np.array(labels_encoded), label_encoder\n",
        "\n",
        "# Function to export the trained model\n",
        "def save_model(model, model_path=\"trained_model.h5\"):\n",
        "    model.save(model_path)\n",
        "    print(f\"Model saved to {model_path}\")\n",
        "\n",
        "# Function to load the model\n",
        "def load_trained_model(model_path=\"trained_model.h5\"):\n",
        "    return load_model(model_path)\n",
        "\n",
        "# Main function to load, preprocess, and train the model\n",
        "def main():\n",
        "    # Load the data from your directory\n",
        "    directory_path = \"/content/dataset/json\"\n",
        "    data, labels = load_data_from_directory(directory_path)\n",
        "\n",
        "    # Preprocess the data\n",
        "    sequences, labels_encoded, label_encoder = preprocess_data(data, labels)\n",
        "\n",
        "    # Split the data into training and testing sets\n",
        "    X_train, X_test, y_train, y_test = train_test_split(sequences, labels_encoded, test_size=0.2, random_state=42)\n",
        "\n",
        "    # Example model (LSTM)\n",
        "    model = Sequential([\n",
        "        LSTM(128, input_shape=(X_train.shape[1], X_train.shape[2]), return_sequences=True),\n",
        "        Dropout(0.2),\n",
        "        LSTM(64),\n",
        "        Dense(len(label_encoder.classes_), activation=\"softmax\")\n",
        "    ])\n",
        "\n",
        "    model.compile(optimizer='adam', loss='categorical_crossentropy', metrics=['accuracy'])\n",
        "    model.summary()\n",
        "\n",
        "    # Train the model\n",
        "    model.fit(X_train, y_train, epochs=10, batch_size=32, validation_data=(X_test, y_test))\n",
        "\n",
        "    # Save the trained model\n",
        "    save_model(model)\n",
        "\n",
        "    # Save label encoder\n",
        "    import joblib\n",
        "    joblib.dump(label_encoder, \"label_encoder.pkl\")\n",
        "\n",
        "# Function to predict a character from user input\n",
        "def predict_character(user_input, model, label_encoder, sequence_length=50):\n",
        "    \"\"\"\n",
        "    Predict the character based on the user input.\n",
        "    :param user_input: List of dictionaries containing 'dx', 'dy', 'timestamp'.\n",
        "    :param model: Trained model to use for predictions.\n",
        "    :param label_encoder: Label encoder to decode predictions into characters.\n",
        "    :param sequence_length: The sequence length for padding/truncating.\n",
        "    :return: Predicted character label.\n",
        "    \"\"\"\n",
        "    # Preprocess the user input\n",
        "    flattened_input = [[point['dx'], point['dy'], point['timestamp']] for point in user_input]\n",
        "    padded_input = pad_sequences([flattened_input], maxlen=sequence_length, dtype='float32', padding='post', truncating='post')\n",
        "\n",
        "    # Make the prediction\n",
        "    prediction = model.predict(padded_input)\n",
        "\n",
        "    # Get the class index with the highest probability\n",
        "    predicted_class_index = np.argmax(prediction)\n",
        "\n",
        "    # Decode the class index to the actual character label\n",
        "    predicted_character = label_encoder.inverse_transform([predicted_class_index])[0]\n",
        "\n",
        "    return predicted_character\n",
        "\n",
        "# Example of how to use the prediction function\n",
        "if __name__ == \"__main__\":\n",
        "    # Train and save the model first\n",
        "    main()\n",
        "\n",
        "    # Load the saved model and label encoder\n",
        "    model = load_trained_model(\"trained_model.h5\")\n",
        "    label_encoder = joblib.load(\"label_encoder.pkl\")\n",
        "\n",
        "    # Sample user input (list of dictionaries with 'dx', 'dy', 'timestamp')\n",
        "    user_input = [\n",
        "        {\"dx\": 198.5, \"dy\": 97, \"timestamp\": 0},\n",
        "        {\"dx\": 198.5, \"dy\": 97, \"timestamp\": 1},\n",
        "        {\"dx\": 198.5, \"dy\": 97, \"timestamp\": 26},\n",
        "        {\"dx\": 198.5, \"dy\": 97, \"timestamp\": 26},\n",
        "        {\"dx\": 198.5, \"dy\": 97, \"timestamp\": 50},\n",
        "    ]\n",
        "\n",
        "    # Predict the character\n",
        "    predicted_character = predict_character(user_input, model, label_encoder)\n",
        "\n",
        "    # Print the predicted character\n",
        "    print(f\"Predicted Character: {predicted_character}\")\n"
      ],
      "metadata": {
        "colab": {
          "base_uri": "https://localhost:8080/",
          "height": 942
        },
        "id": "XKrhXx0semIM",
        "outputId": "8beb38f5-e9e7-40ec-fd37-6c8f46a18d0f"
      },
      "execution_count": 14,
      "outputs": [
        {
          "output_type": "stream",
          "name": "stderr",
          "text": [
            "/usr/local/lib/python3.11/dist-packages/keras/src/layers/rnn/rnn.py:204: UserWarning: Do not pass an `input_shape`/`input_dim` argument to a layer. When using Sequential models, prefer using an `Input(shape)` object as the first layer in the model instead.\n",
            "  super().__init__(**kwargs)\n"
          ]
        },
        {
          "output_type": "display_data",
          "data": {
            "text/plain": [
              "\u001b[1mModel: \"sequential_7\"\u001b[0m\n"
            ],
            "text/html": [
              "<pre style=\"white-space:pre;overflow-x:auto;line-height:normal;font-family:Menlo,'DejaVu Sans Mono',consolas,'Courier New',monospace\"><span style=\"font-weight: bold\">Model: \"sequential_7\"</span>\n",
              "</pre>\n"
            ]
          },
          "metadata": {}
        },
        {
          "output_type": "display_data",
          "data": {
            "text/plain": [
              "┏━━━━━━━━━━━━━━━━━━━━━━━━━━━━━━━━━━━━━━┳━━━━━━━━━━━━━━━━━━━━━━━━━━━━━┳━━━━━━━━━━━━━━━━━┓\n",
              "┃\u001b[1m \u001b[0m\u001b[1mLayer (type)                        \u001b[0m\u001b[1m \u001b[0m┃\u001b[1m \u001b[0m\u001b[1mOutput Shape               \u001b[0m\u001b[1m \u001b[0m┃\u001b[1m \u001b[0m\u001b[1m        Param #\u001b[0m\u001b[1m \u001b[0m┃\n",
              "┡━━━━━━━━━━━━━━━━━━━━━━━━━━━━━━━━━━━━━━╇━━━━━━━━━━━━━━━━━━━━━━━━━━━━━╇━━━━━━━━━━━━━━━━━┩\n",
              "│ lstm_22 (\u001b[38;5;33mLSTM\u001b[0m)                       │ (\u001b[38;5;45mNone\u001b[0m, \u001b[38;5;34m50\u001b[0m, \u001b[38;5;34m128\u001b[0m)             │          \u001b[38;5;34m67,584\u001b[0m │\n",
              "├──────────────────────────────────────┼─────────────────────────────┼─────────────────┤\n",
              "│ dropout_15 (\u001b[38;5;33mDropout\u001b[0m)                 │ (\u001b[38;5;45mNone\u001b[0m, \u001b[38;5;34m50\u001b[0m, \u001b[38;5;34m128\u001b[0m)             │               \u001b[38;5;34m0\u001b[0m │\n",
              "├──────────────────────────────────────┼─────────────────────────────┼─────────────────┤\n",
              "│ lstm_23 (\u001b[38;5;33mLSTM\u001b[0m)                       │ (\u001b[38;5;45mNone\u001b[0m, \u001b[38;5;34m64\u001b[0m)                  │          \u001b[38;5;34m49,408\u001b[0m │\n",
              "├──────────────────────────────────────┼─────────────────────────────┼─────────────────┤\n",
              "│ dense_13 (\u001b[38;5;33mDense\u001b[0m)                     │ (\u001b[38;5;45mNone\u001b[0m, \u001b[38;5;34m35\u001b[0m)                  │           \u001b[38;5;34m2,275\u001b[0m │\n",
              "└──────────────────────────────────────┴─────────────────────────────┴─────────────────┘\n"
            ],
            "text/html": [
              "<pre style=\"white-space:pre;overflow-x:auto;line-height:normal;font-family:Menlo,'DejaVu Sans Mono',consolas,'Courier New',monospace\">┏━━━━━━━━━━━━━━━━━━━━━━━━━━━━━━━━━━━━━━┳━━━━━━━━━━━━━━━━━━━━━━━━━━━━━┳━━━━━━━━━━━━━━━━━┓\n",
              "┃<span style=\"font-weight: bold\"> Layer (type)                         </span>┃<span style=\"font-weight: bold\"> Output Shape                </span>┃<span style=\"font-weight: bold\">         Param # </span>┃\n",
              "┡━━━━━━━━━━━━━━━━━━━━━━━━━━━━━━━━━━━━━━╇━━━━━━━━━━━━━━━━━━━━━━━━━━━━━╇━━━━━━━━━━━━━━━━━┩\n",
              "│ lstm_22 (<span style=\"color: #0087ff; text-decoration-color: #0087ff\">LSTM</span>)                       │ (<span style=\"color: #00d7ff; text-decoration-color: #00d7ff\">None</span>, <span style=\"color: #00af00; text-decoration-color: #00af00\">50</span>, <span style=\"color: #00af00; text-decoration-color: #00af00\">128</span>)             │          <span style=\"color: #00af00; text-decoration-color: #00af00\">67,584</span> │\n",
              "├──────────────────────────────────────┼─────────────────────────────┼─────────────────┤\n",
              "│ dropout_15 (<span style=\"color: #0087ff; text-decoration-color: #0087ff\">Dropout</span>)                 │ (<span style=\"color: #00d7ff; text-decoration-color: #00d7ff\">None</span>, <span style=\"color: #00af00; text-decoration-color: #00af00\">50</span>, <span style=\"color: #00af00; text-decoration-color: #00af00\">128</span>)             │               <span style=\"color: #00af00; text-decoration-color: #00af00\">0</span> │\n",
              "├──────────────────────────────────────┼─────────────────────────────┼─────────────────┤\n",
              "│ lstm_23 (<span style=\"color: #0087ff; text-decoration-color: #0087ff\">LSTM</span>)                       │ (<span style=\"color: #00d7ff; text-decoration-color: #00d7ff\">None</span>, <span style=\"color: #00af00; text-decoration-color: #00af00\">64</span>)                  │          <span style=\"color: #00af00; text-decoration-color: #00af00\">49,408</span> │\n",
              "├──────────────────────────────────────┼─────────────────────────────┼─────────────────┤\n",
              "│ dense_13 (<span style=\"color: #0087ff; text-decoration-color: #0087ff\">Dense</span>)                     │ (<span style=\"color: #00d7ff; text-decoration-color: #00d7ff\">None</span>, <span style=\"color: #00af00; text-decoration-color: #00af00\">35</span>)                  │           <span style=\"color: #00af00; text-decoration-color: #00af00\">2,275</span> │\n",
              "└──────────────────────────────────────┴─────────────────────────────┴─────────────────┘\n",
              "</pre>\n"
            ]
          },
          "metadata": {}
        },
        {
          "output_type": "display_data",
          "data": {
            "text/plain": [
              "\u001b[1m Total params: \u001b[0m\u001b[38;5;34m119,267\u001b[0m (465.89 KB)\n"
            ],
            "text/html": [
              "<pre style=\"white-space:pre;overflow-x:auto;line-height:normal;font-family:Menlo,'DejaVu Sans Mono',consolas,'Courier New',monospace\"><span style=\"font-weight: bold\"> Total params: </span><span style=\"color: #00af00; text-decoration-color: #00af00\">119,267</span> (465.89 KB)\n",
              "</pre>\n"
            ]
          },
          "metadata": {}
        },
        {
          "output_type": "display_data",
          "data": {
            "text/plain": [
              "\u001b[1m Trainable params: \u001b[0m\u001b[38;5;34m119,267\u001b[0m (465.89 KB)\n"
            ],
            "text/html": [
              "<pre style=\"white-space:pre;overflow-x:auto;line-height:normal;font-family:Menlo,'DejaVu Sans Mono',consolas,'Courier New',monospace\"><span style=\"font-weight: bold\"> Trainable params: </span><span style=\"color: #00af00; text-decoration-color: #00af00\">119,267</span> (465.89 KB)\n",
              "</pre>\n"
            ]
          },
          "metadata": {}
        },
        {
          "output_type": "display_data",
          "data": {
            "text/plain": [
              "\u001b[1m Non-trainable params: \u001b[0m\u001b[38;5;34m0\u001b[0m (0.00 B)\n"
            ],
            "text/html": [
              "<pre style=\"white-space:pre;overflow-x:auto;line-height:normal;font-family:Menlo,'DejaVu Sans Mono',consolas,'Courier New',monospace\"><span style=\"font-weight: bold\"> Non-trainable params: </span><span style=\"color: #00af00; text-decoration-color: #00af00\">0</span> (0.00 B)\n",
              "</pre>\n"
            ]
          },
          "metadata": {}
        },
        {
          "output_type": "stream",
          "name": "stdout",
          "text": [
            "Epoch 1/10\n",
            "\u001b[1m2263/2263\u001b[0m \u001b[32m━━━━━━━━━━━━━━━━━━━━\u001b[0m\u001b[37m\u001b[0m \u001b[1m225s\u001b[0m 98ms/step - accuracy: 0.0534 - loss: 3.4298 - val_accuracy: 0.0582 - val_loss: 3.3708\n",
            "Epoch 2/10\n",
            "\u001b[1m2263/2263\u001b[0m \u001b[32m━━━━━━━━━━━━━━━━━━━━\u001b[0m\u001b[37m\u001b[0m \u001b[1m221s\u001b[0m 98ms/step - accuracy: 0.0629 - loss: 3.3418 - val_accuracy: 0.0672 - val_loss: 3.3166\n",
            "Epoch 3/10\n",
            "\u001b[1m2263/2263\u001b[0m \u001b[32m━━━━━━━━━━━━━━━━━━━━\u001b[0m\u001b[37m\u001b[0m \u001b[1m261s\u001b[0m 98ms/step - accuracy: 0.0674 - loss: 3.3099 - val_accuracy: 0.0748 - val_loss: 3.2573\n",
            "Epoch 4/10\n",
            "\u001b[1m2263/2263\u001b[0m \u001b[32m━━━━━━━━━━━━━━━━━━━━\u001b[0m\u001b[37m\u001b[0m \u001b[1m225s\u001b[0m 99ms/step - accuracy: 0.0817 - loss: 3.2380 - val_accuracy: 0.0813 - val_loss: 3.2164\n",
            "Epoch 5/10\n",
            "\u001b[1m2263/2263\u001b[0m \u001b[32m━━━━━━━━━━━━━━━━━━━━\u001b[0m\u001b[37m\u001b[0m \u001b[1m258s\u001b[0m 98ms/step - accuracy: 0.0889 - loss: 3.1921 - val_accuracy: 0.0984 - val_loss: 3.1492\n",
            "Epoch 6/10\n",
            "\u001b[1m2263/2263\u001b[0m \u001b[32m━━━━━━━━━━━━━━━━━━━━\u001b[0m\u001b[37m\u001b[0m \u001b[1m220s\u001b[0m 97ms/step - accuracy: 0.1006 - loss: 3.1221 - val_accuracy: 0.1110 - val_loss: 3.0904\n",
            "Epoch 7/10\n",
            "\u001b[1m2263/2263\u001b[0m \u001b[32m━━━━━━━━━━━━━━━━━━━━\u001b[0m\u001b[37m\u001b[0m \u001b[1m221s\u001b[0m 98ms/step - accuracy: 0.1110 - loss: 3.0706 - val_accuracy: 0.1230 - val_loss: 3.0284\n",
            "Epoch 8/10\n",
            "\u001b[1m2263/2263\u001b[0m \u001b[32m━━━━━━━━━━━━━━━━━━━━\u001b[0m\u001b[37m\u001b[0m \u001b[1m222s\u001b[0m 98ms/step - accuracy: 0.1179 - loss: 3.0353 - val_accuracy: 0.1201 - val_loss: 2.9972\n",
            "Epoch 9/10\n",
            "\u001b[1m2263/2263\u001b[0m \u001b[32m━━━━━━━━━━━━━━━━━━━━\u001b[0m\u001b[37m\u001b[0m \u001b[1m222s\u001b[0m 98ms/step - accuracy: 0.1250 - loss: 2.9889 - val_accuracy: 0.1319 - val_loss: 2.9732\n",
            "Epoch 10/10\n",
            "\u001b[1m2263/2263\u001b[0m \u001b[32m━━━━━━━━━━━━━━━━━━━━\u001b[0m\u001b[37m\u001b[0m \u001b[1m222s\u001b[0m 98ms/step - accuracy: 0.1325 - loss: 2.9622 - val_accuracy: 0.1349 - val_loss: 2.9441\n"
          ]
        },
        {
          "output_type": "stream",
          "name": "stderr",
          "text": [
            "WARNING:absl:You are saving your model as an HDF5 file via `model.save()` or `keras.saving.save_model(model)`. This file format is considered legacy. We recommend using instead the native Keras format, e.g. `model.save('my_model.keras')` or `keras.saving.save_model(model, 'my_model.keras')`. \n"
          ]
        },
        {
          "output_type": "stream",
          "name": "stdout",
          "text": [
            "Model saved to trained_model.h5\n"
          ]
        },
        {
          "output_type": "stream",
          "name": "stderr",
          "text": [
            "WARNING:absl:Compiled the loaded model, but the compiled metrics have yet to be built. `model.compile_metrics` will be empty until you train or evaluate the model.\n"
          ]
        },
        {
          "output_type": "error",
          "ename": "NameError",
          "evalue": "name 'joblib' is not defined",
          "traceback": [
            "\u001b[0;31m---------------------------------------------------------------------------\u001b[0m",
            "\u001b[0;31mNameError\u001b[0m                                 Traceback (most recent call last)",
            "\u001b[0;32m<ipython-input-14-44868569bef6>\u001b[0m in \u001b[0;36m<cell line: 0>\u001b[0;34m()\u001b[0m\n\u001b[1;32m    125\u001b[0m     \u001b[0;31m# Load the saved model and label encoder\u001b[0m\u001b[0;34m\u001b[0m\u001b[0;34m\u001b[0m\u001b[0m\n\u001b[1;32m    126\u001b[0m     \u001b[0mmodel\u001b[0m \u001b[0;34m=\u001b[0m \u001b[0mload_trained_model\u001b[0m\u001b[0;34m(\u001b[0m\u001b[0;34m\"trained_model.h5\"\u001b[0m\u001b[0;34m)\u001b[0m\u001b[0;34m\u001b[0m\u001b[0;34m\u001b[0m\u001b[0m\n\u001b[0;32m--> 127\u001b[0;31m     \u001b[0mlabel_encoder\u001b[0m \u001b[0;34m=\u001b[0m \u001b[0mjoblib\u001b[0m\u001b[0;34m.\u001b[0m\u001b[0mload\u001b[0m\u001b[0;34m(\u001b[0m\u001b[0;34m\"label_encoder.pkl\"\u001b[0m\u001b[0;34m)\u001b[0m\u001b[0;34m\u001b[0m\u001b[0;34m\u001b[0m\u001b[0m\n\u001b[0m\u001b[1;32m    128\u001b[0m \u001b[0;34m\u001b[0m\u001b[0m\n\u001b[1;32m    129\u001b[0m     \u001b[0;31m# Sample user input (list of dictionaries with 'dx', 'dy', 'timestamp')\u001b[0m\u001b[0;34m\u001b[0m\u001b[0;34m\u001b[0m\u001b[0m\n",
            "\u001b[0;31mNameError\u001b[0m: name 'joblib' is not defined"
          ]
        }
      ]
    },
    {
      "cell_type": "code",
      "source": [
        "    import joblib\n",
        "    model = load_trained_model(\"trained_model.h5\")\n",
        "    label_encoder = joblib.load(\"label_encoder.pkl\")\n",
        "\n",
        "    # Sample user input (list of dictionaries with 'dx', 'dy', 'timestamp')\n",
        "    user_input = [\n",
        "         {\n",
        "            \"dx\": 198.5,\n",
        "            \"dy\": 97,\n",
        "            \"timestamp\": 0\n",
        "        },\n",
        "\n",
        "    ]\n",
        "\n",
        "    # Predict the character\n",
        "    predicted_character = predict_character(user_input, model, label_encoder)\n",
        "\n",
        "    # Print the predicted character\n",
        "    print(f\"Predicted Character: {predicted_character}\")"
      ],
      "metadata": {
        "colab": {
          "base_uri": "https://localhost:8080/"
        },
        "id": "UamXgcDzwQLZ",
        "outputId": "aef35b28-5737-4c34-8d49-0b77323233f4"
      },
      "execution_count": 18,
      "outputs": [
        {
          "output_type": "stream",
          "name": "stderr",
          "text": [
            "WARNING:absl:Compiled the loaded model, but the compiled metrics have yet to be built. `model.compile_metrics` will be empty until you train or evaluate the model.\n",
            "WARNING:tensorflow:6 out of the last 6 calls to <function TensorFlowTrainer.make_predict_function.<locals>.one_step_on_data_distributed at 0x7968a9c0f060> triggered tf.function retracing. Tracing is expensive and the excessive number of tracings could be due to (1) creating @tf.function repeatedly in a loop, (2) passing tensors with different shapes, (3) passing Python objects instead of tensors. For (1), please define your @tf.function outside of the loop. For (2), @tf.function has reduce_retracing=True option that can avoid unnecessary retracing. For (3), please refer to https://www.tensorflow.org/guide/function#controlling_retracing and https://www.tensorflow.org/api_docs/python/tf/function for  more details.\n"
          ]
        },
        {
          "output_type": "stream",
          "name": "stdout",
          "text": [
            "\u001b[1m1/1\u001b[0m \u001b[32m━━━━━━━━━━━━━━━━━━━━\u001b[0m\u001b[37m\u001b[0m \u001b[1m0s\u001b[0m 334ms/step\n",
            "Predicted Character: ژ\n"
          ]
        }
      ]
    }
  ]
}