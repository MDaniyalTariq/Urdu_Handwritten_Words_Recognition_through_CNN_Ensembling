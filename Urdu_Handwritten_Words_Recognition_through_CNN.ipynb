{
  "metadata": {
    "kernelspec": {
      "language": "python",
      "display_name": "Python 3",
      "name": "python3"
    },
    "language_info": {
      "name": "python",
      "version": "3.10.14",
      "mimetype": "text/x-python",
      "codemirror_mode": {
        "name": "ipython",
        "version": 3
      },
      "pygments_lexer": "ipython3",
      "nbconvert_exporter": "python",
      "file_extension": ".py"
    },
    "kaggle": {
      "accelerator": "none",
      "dataSources": [
        {
          "sourceId": 951000,
          "sourceType": "datasetVersion",
          "datasetId": 468040
        }
      ],
      "dockerImageVersionId": 30804,
      "isInternetEnabled": false,
      "language": "python",
      "sourceType": "notebook",
      "isGpuEnabled": false
    },
    "colab": {
      "name": "Urdu Handwritten Words Recognition through CNN",
      "provenance": [],
      "include_colab_link": true
    }
  },
  "nbformat_minor": 0,
  "nbformat": 4,
  "cells": [
    {
      "cell_type": "markdown",
      "metadata": {
        "id": "view-in-github",
        "colab_type": "text"
      },
      "source": [
        "<a href=\"https://colab.research.google.com/github/MDaniyalTariq/Urdu_Handwritten_Words_Recognition_through_CNN_Ensembling/blob/main/Urdu_Handwritten_Words_Recognition_through_CNN.ipynb\" target=\"_parent\"><img src=\"https://colab.research.google.com/assets/colab-badge.svg\" alt=\"Open In Colab\"/></a>"
      ]
    },
    {
      "source": [
        "# IMPORTANT: RUN THIS CELL IN ORDER TO IMPORT YOUR KAGGLE DATA SOURCES,\n",
        "# THEN FEEL FREE TO DELETE THIS CELL.\n",
        "# NOTE: THIS NOTEBOOK ENVIRONMENT DIFFERS FROM KAGGLE'S PYTHON\n",
        "# ENVIRONMENT SO THERE MAY BE MISSING LIBRARIES USED BY YOUR\n",
        "# NOTEBOOK.\n",
        "import kagglehub\n",
        "hazrat_uhat_urdu_handwritten_text_dataset_path = kagglehub.dataset_download('hazrat/uhat-urdu-handwritten-text-dataset')\n",
        "\n",
        "print('Data source import complete.',hazrat_uhat_urdu_handwritten_text_dataset_path)\n"
      ],
      "metadata": {
        "colab": {
          "base_uri": "https://localhost:8080/"
        },
        "id": "-DD5JZ8SBqZA",
        "outputId": "2886f427-12fb-49c1-87b6-ade1350ded85"
      },
      "cell_type": "code",
      "outputs": [
        {
          "output_type": "stream",
          "name": "stdout",
          "text": [
            "Warning: Looks like you're using an outdated `kagglehub` version (installed: 0.3.5), please consider upgrading to the latest version (0.3.6).\n",
            "Downloading from https://www.kaggle.com/api/v1/datasets/download/hazrat/uhat-urdu-handwritten-text-dataset?dataset_version_number=2...\n"
          ]
        },
        {
          "output_type": "stream",
          "name": "stderr",
          "text": [
            "100%|██████████| 43.4M/43.4M [00:02<00:00, 19.2MB/s]"
          ]
        },
        {
          "output_type": "stream",
          "name": "stdout",
          "text": [
            "Extracting files...\n"
          ]
        },
        {
          "output_type": "stream",
          "name": "stderr",
          "text": [
            "\n"
          ]
        },
        {
          "output_type": "stream",
          "name": "stdout",
          "text": [
            "Data source import complete. /root/.cache/kagglehub/datasets/hazrat/uhat-urdu-handwritten-text-dataset/versions/2\n"
          ]
        }
      ],
      "execution_count": 3
    },
    {
      "cell_type": "code",
      "source": [
        "# This Python 3 environment comes with many helpful analytics libraries installed\n",
        "# It is defined by the kaggle/python Docker image: https://github.com/kaggle/docker-python\n",
        "# For example, here's several helpful packages to load\n",
        "\n",
        "import numpy as np # linear algebra\n",
        "import pandas as pd # data processing, CSV file I/O (e.g. pd.read_csv)\n",
        "\n",
        "# Input data files are available in the read-only \"../input/\" directory\n",
        "# For example, running this (by clicking run or pressing Shift+Enter) will list all files under the input directory\n",
        "\n",
        "import os\n",
        "for dirname, _, filenames in os.walk('/kaggle/input'):\n",
        "    for filename in filenames:\n",
        "        print(os.path.join(dirname, filename))\n",
        "\n",
        "# You can write up to 20GB to the current directory (/kaggle/working/) that gets preserved as output when you create a version using \"Save & Run All\"\n",
        "# You can also write temporary files to /kaggle/temp/, but they won't be saved outside of the current session"
      ],
      "metadata": {
        "_uuid": "8f2839f25d086af736a60e9eeb907d3b93b6e0e5",
        "_cell_guid": "b1076dfc-b9ad-4769-8c92-a6c4dae69d19",
        "trusted": true,
        "execution": {
          "iopub.status.busy": "2024-12-25T15:49:18.12759Z",
          "iopub.execute_input": "2024-12-25T15:49:18.128356Z",
          "iopub.status.idle": "2024-12-25T15:51:08.317419Z",
          "shell.execute_reply.started": "2024-12-25T15:49:18.128308Z",
          "shell.execute_reply": "2024-12-25T15:51:08.316258Z"
        },
        "id": "oqvxOnRKBqZB"
      },
      "outputs": [],
      "execution_count": null
    },
    {
      "cell_type": "code",
      "source": [
        "import numpy as np\n",
        "import tensorflow as tf\n",
        "from tensorflow.keras.models import Sequential\n",
        "from tensorflow.keras.layers import Conv2D, MaxPooling2D, Flatten, Dense, Dropout\n",
        "from tensorflow.keras.utils import to_categorical\n",
        "from sklearn.metrics import classification_report, confusion_matrix\n",
        "import matplotlib.pyplot as plt\n",
        "import os\n"
      ],
      "metadata": {
        "trusted": true,
        "execution": {
          "iopub.status.busy": "2024-12-25T15:51:08.319138Z",
          "iopub.execute_input": "2024-12-25T15:51:08.319626Z",
          "iopub.status.idle": "2024-12-25T15:51:22.808936Z",
          "shell.execute_reply.started": "2024-12-25T15:51:08.31956Z",
          "shell.execute_reply": "2024-12-25T15:51:22.808001Z"
        },
        "id": "UF0-JMc5BqZC"
      },
      "outputs": [],
      "execution_count": 15
    },
    {
      "cell_type": "code",
      "source": [
        "# Load the Urdu Handwritten Text dataset\n",
        "# Load the dataset\n",
        "zip_file_path = '/content/uhat_dataset.npz'\n",
        "\n",
        "with zipfile.ZipFile(zip_file_path, 'r') as zip_ref:\n",
        "    bad_file = zip_ref.testzip()\n",
        "    if bad_file is None:\n",
        "        print(\"The file is a valid zip file.\")\n",
        "    else:\n",
        "        print(f\"Corrupted file: {bad_file}\")\n",
        "\n",
        "data = np.load(zip_file_path)\n",
        "\n",
        "# Extract digit data\n",
        "x_train = data['x_chars_train']\n",
        "x_test = data['x_chars_test']\n",
        "y_train = data['y_chars_train']\n",
        "y_test = data['y_chars_test']\n",
        "\n",
        "# Normalize the pixel values\n",
        "x_train = x_train / 255.0\n",
        "x_test = x_test / 255.0\n",
        "\n",
        "# Reshape the data to include the channel dimension\n",
        "x_train = x_train.reshape(-1, 28, 28, 1)\n",
        "x_test = x_test.reshape(-1, 28, 28, 1)\n",
        "\n",
        "# One-hot encode the labels\n",
        "y_train = to_categorical(y_train, num_classes=40)\n",
        "y_test = to_categorical(y_test, num_classes=40)\n",
        "\n",
        "print(\"Dataset loaded and processed successfully.\")\n"
      ],
      "metadata": {
        "trusted": true,
        "execution": {
          "iopub.status.busy": "2024-12-25T15:51:22.810199Z",
          "iopub.execute_input": "2024-12-25T15:51:22.810786Z",
          "iopub.status.idle": "2024-12-25T15:51:23.306699Z",
          "shell.execute_reply.started": "2024-12-25T15:51:22.810753Z",
          "shell.execute_reply": "2024-12-25T15:51:23.305627Z"
        },
        "colab": {
          "base_uri": "https://localhost:8080/"
        },
        "id": "A-im-0MyBqZE",
        "outputId": "f96fa491-7a82-44e5-bac0-9b5a8f874b87"
      },
      "outputs": [
        {
          "output_type": "stream",
          "name": "stdout",
          "text": [
            "The file is a valid zip file.\n",
            "Dataset loaded and processed successfully.\n"
          ]
        }
      ],
      "execution_count": 16
    },
    {
      "cell_type": "code",
      "source": [
        "# Build the CNN model\n",
        "model = Sequential([\n",
        "    Conv2D(32, (3, 3), activation='relu', input_shape=(28, 28, 1)),\n",
        "    MaxPooling2D((2, 2)),\n",
        "    Conv2D(64, (3, 3), activation='relu'),\n",
        "    MaxPooling2D((2, 2)),\n",
        "    Flatten(),\n",
        "    Dense(128, activation='relu'),\n",
        "    Dropout(0.5),\n",
        "    Dense(40, activation='softmax')  # 40 classes\n",
        "])\n",
        "\n",
        "# Compile the model\n",
        "model.compile(optimizer='adam', loss='categorical_crossentropy', metrics=['accuracy'])\n",
        "model.summary()\n"
      ],
      "metadata": {
        "trusted": true,
        "execution": {
          "iopub.status.busy": "2024-12-25T15:51:23.308968Z",
          "iopub.execute_input": "2024-12-25T15:51:23.309303Z",
          "iopub.status.idle": "2024-12-25T15:51:23.457068Z",
          "shell.execute_reply.started": "2024-12-25T15:51:23.309267Z",
          "shell.execute_reply": "2024-12-25T15:51:23.45611Z"
        },
        "colab": {
          "base_uri": "https://localhost:8080/",
          "height": 453
        },
        "id": "znTeI4FkBqZF",
        "outputId": "33785e02-6162-4220-cec7-4602471bd5a4"
      },
      "outputs": [
        {
          "output_type": "stream",
          "name": "stderr",
          "text": [
            "/usr/local/lib/python3.10/dist-packages/keras/src/layers/convolutional/base_conv.py:107: UserWarning: Do not pass an `input_shape`/`input_dim` argument to a layer. When using Sequential models, prefer using an `Input(shape)` object as the first layer in the model instead.\n",
            "  super().__init__(activity_regularizer=activity_regularizer, **kwargs)\n"
          ]
        },
        {
          "output_type": "display_data",
          "data": {
            "text/plain": [
              "\u001b[1mModel: \"sequential_3\"\u001b[0m\n"
            ],
            "text/html": [
              "<pre style=\"white-space:pre;overflow-x:auto;line-height:normal;font-family:Menlo,'DejaVu Sans Mono',consolas,'Courier New',monospace\"><span style=\"font-weight: bold\">Model: \"sequential_3\"</span>\n",
              "</pre>\n"
            ]
          },
          "metadata": {}
        },
        {
          "output_type": "display_data",
          "data": {
            "text/plain": [
              "┏━━━━━━━━━━━━━━━━━━━━━━━━━━━━━━━━━━━━━━┳━━━━━━━━━━━━━━━━━━━━━━━━━━━━━┳━━━━━━━━━━━━━━━━━┓\n",
              "┃\u001b[1m \u001b[0m\u001b[1mLayer (type)                        \u001b[0m\u001b[1m \u001b[0m┃\u001b[1m \u001b[0m\u001b[1mOutput Shape               \u001b[0m\u001b[1m \u001b[0m┃\u001b[1m \u001b[0m\u001b[1m        Param #\u001b[0m\u001b[1m \u001b[0m┃\n",
              "┡━━━━━━━━━━━━━━━━━━━━━━━━━━━━━━━━━━━━━━╇━━━━━━━━━━━━━━━━━━━━━━━━━━━━━╇━━━━━━━━━━━━━━━━━┩\n",
              "│ conv2d_6 (\u001b[38;5;33mConv2D\u001b[0m)                    │ (\u001b[38;5;45mNone\u001b[0m, \u001b[38;5;34m26\u001b[0m, \u001b[38;5;34m26\u001b[0m, \u001b[38;5;34m32\u001b[0m)          │             \u001b[38;5;34m320\u001b[0m │\n",
              "├──────────────────────────────────────┼─────────────────────────────┼─────────────────┤\n",
              "│ max_pooling2d_6 (\u001b[38;5;33mMaxPooling2D\u001b[0m)       │ (\u001b[38;5;45mNone\u001b[0m, \u001b[38;5;34m13\u001b[0m, \u001b[38;5;34m13\u001b[0m, \u001b[38;5;34m32\u001b[0m)          │               \u001b[38;5;34m0\u001b[0m │\n",
              "├──────────────────────────────────────┼─────────────────────────────┼─────────────────┤\n",
              "│ conv2d_7 (\u001b[38;5;33mConv2D\u001b[0m)                    │ (\u001b[38;5;45mNone\u001b[0m, \u001b[38;5;34m11\u001b[0m, \u001b[38;5;34m11\u001b[0m, \u001b[38;5;34m64\u001b[0m)          │          \u001b[38;5;34m18,496\u001b[0m │\n",
              "├──────────────────────────────────────┼─────────────────────────────┼─────────────────┤\n",
              "│ max_pooling2d_7 (\u001b[38;5;33mMaxPooling2D\u001b[0m)       │ (\u001b[38;5;45mNone\u001b[0m, \u001b[38;5;34m5\u001b[0m, \u001b[38;5;34m5\u001b[0m, \u001b[38;5;34m64\u001b[0m)            │               \u001b[38;5;34m0\u001b[0m │\n",
              "├──────────────────────────────────────┼─────────────────────────────┼─────────────────┤\n",
              "│ flatten_3 (\u001b[38;5;33mFlatten\u001b[0m)                  │ (\u001b[38;5;45mNone\u001b[0m, \u001b[38;5;34m1600\u001b[0m)                │               \u001b[38;5;34m0\u001b[0m │\n",
              "├──────────────────────────────────────┼─────────────────────────────┼─────────────────┤\n",
              "│ dense_6 (\u001b[38;5;33mDense\u001b[0m)                      │ (\u001b[38;5;45mNone\u001b[0m, \u001b[38;5;34m128\u001b[0m)                 │         \u001b[38;5;34m204,928\u001b[0m │\n",
              "├──────────────────────────────────────┼─────────────────────────────┼─────────────────┤\n",
              "│ dropout_3 (\u001b[38;5;33mDropout\u001b[0m)                  │ (\u001b[38;5;45mNone\u001b[0m, \u001b[38;5;34m128\u001b[0m)                 │               \u001b[38;5;34m0\u001b[0m │\n",
              "├──────────────────────────────────────┼─────────────────────────────┼─────────────────┤\n",
              "│ dense_7 (\u001b[38;5;33mDense\u001b[0m)                      │ (\u001b[38;5;45mNone\u001b[0m, \u001b[38;5;34m40\u001b[0m)                  │           \u001b[38;5;34m5,160\u001b[0m │\n",
              "└──────────────────────────────────────┴─────────────────────────────┴─────────────────┘\n"
            ],
            "text/html": [
              "<pre style=\"white-space:pre;overflow-x:auto;line-height:normal;font-family:Menlo,'DejaVu Sans Mono',consolas,'Courier New',monospace\">┏━━━━━━━━━━━━━━━━━━━━━━━━━━━━━━━━━━━━━━┳━━━━━━━━━━━━━━━━━━━━━━━━━━━━━┳━━━━━━━━━━━━━━━━━┓\n",
              "┃<span style=\"font-weight: bold\"> Layer (type)                         </span>┃<span style=\"font-weight: bold\"> Output Shape                </span>┃<span style=\"font-weight: bold\">         Param # </span>┃\n",
              "┡━━━━━━━━━━━━━━━━━━━━━━━━━━━━━━━━━━━━━━╇━━━━━━━━━━━━━━━━━━━━━━━━━━━━━╇━━━━━━━━━━━━━━━━━┩\n",
              "│ conv2d_6 (<span style=\"color: #0087ff; text-decoration-color: #0087ff\">Conv2D</span>)                    │ (<span style=\"color: #00d7ff; text-decoration-color: #00d7ff\">None</span>, <span style=\"color: #00af00; text-decoration-color: #00af00\">26</span>, <span style=\"color: #00af00; text-decoration-color: #00af00\">26</span>, <span style=\"color: #00af00; text-decoration-color: #00af00\">32</span>)          │             <span style=\"color: #00af00; text-decoration-color: #00af00\">320</span> │\n",
              "├──────────────────────────────────────┼─────────────────────────────┼─────────────────┤\n",
              "│ max_pooling2d_6 (<span style=\"color: #0087ff; text-decoration-color: #0087ff\">MaxPooling2D</span>)       │ (<span style=\"color: #00d7ff; text-decoration-color: #00d7ff\">None</span>, <span style=\"color: #00af00; text-decoration-color: #00af00\">13</span>, <span style=\"color: #00af00; text-decoration-color: #00af00\">13</span>, <span style=\"color: #00af00; text-decoration-color: #00af00\">32</span>)          │               <span style=\"color: #00af00; text-decoration-color: #00af00\">0</span> │\n",
              "├──────────────────────────────────────┼─────────────────────────────┼─────────────────┤\n",
              "│ conv2d_7 (<span style=\"color: #0087ff; text-decoration-color: #0087ff\">Conv2D</span>)                    │ (<span style=\"color: #00d7ff; text-decoration-color: #00d7ff\">None</span>, <span style=\"color: #00af00; text-decoration-color: #00af00\">11</span>, <span style=\"color: #00af00; text-decoration-color: #00af00\">11</span>, <span style=\"color: #00af00; text-decoration-color: #00af00\">64</span>)          │          <span style=\"color: #00af00; text-decoration-color: #00af00\">18,496</span> │\n",
              "├──────────────────────────────────────┼─────────────────────────────┼─────────────────┤\n",
              "│ max_pooling2d_7 (<span style=\"color: #0087ff; text-decoration-color: #0087ff\">MaxPooling2D</span>)       │ (<span style=\"color: #00d7ff; text-decoration-color: #00d7ff\">None</span>, <span style=\"color: #00af00; text-decoration-color: #00af00\">5</span>, <span style=\"color: #00af00; text-decoration-color: #00af00\">5</span>, <span style=\"color: #00af00; text-decoration-color: #00af00\">64</span>)            │               <span style=\"color: #00af00; text-decoration-color: #00af00\">0</span> │\n",
              "├──────────────────────────────────────┼─────────────────────────────┼─────────────────┤\n",
              "│ flatten_3 (<span style=\"color: #0087ff; text-decoration-color: #0087ff\">Flatten</span>)                  │ (<span style=\"color: #00d7ff; text-decoration-color: #00d7ff\">None</span>, <span style=\"color: #00af00; text-decoration-color: #00af00\">1600</span>)                │               <span style=\"color: #00af00; text-decoration-color: #00af00\">0</span> │\n",
              "├──────────────────────────────────────┼─────────────────────────────┼─────────────────┤\n",
              "│ dense_6 (<span style=\"color: #0087ff; text-decoration-color: #0087ff\">Dense</span>)                      │ (<span style=\"color: #00d7ff; text-decoration-color: #00d7ff\">None</span>, <span style=\"color: #00af00; text-decoration-color: #00af00\">128</span>)                 │         <span style=\"color: #00af00; text-decoration-color: #00af00\">204,928</span> │\n",
              "├──────────────────────────────────────┼─────────────────────────────┼─────────────────┤\n",
              "│ dropout_3 (<span style=\"color: #0087ff; text-decoration-color: #0087ff\">Dropout</span>)                  │ (<span style=\"color: #00d7ff; text-decoration-color: #00d7ff\">None</span>, <span style=\"color: #00af00; text-decoration-color: #00af00\">128</span>)                 │               <span style=\"color: #00af00; text-decoration-color: #00af00\">0</span> │\n",
              "├──────────────────────────────────────┼─────────────────────────────┼─────────────────┤\n",
              "│ dense_7 (<span style=\"color: #0087ff; text-decoration-color: #0087ff\">Dense</span>)                      │ (<span style=\"color: #00d7ff; text-decoration-color: #00d7ff\">None</span>, <span style=\"color: #00af00; text-decoration-color: #00af00\">40</span>)                  │           <span style=\"color: #00af00; text-decoration-color: #00af00\">5,160</span> │\n",
              "└──────────────────────────────────────┴─────────────────────────────┴─────────────────┘\n",
              "</pre>\n"
            ]
          },
          "metadata": {}
        },
        {
          "output_type": "display_data",
          "data": {
            "text/plain": [
              "\u001b[1m Total params: \u001b[0m\u001b[38;5;34m228,904\u001b[0m (894.16 KB)\n"
            ],
            "text/html": [
              "<pre style=\"white-space:pre;overflow-x:auto;line-height:normal;font-family:Menlo,'DejaVu Sans Mono',consolas,'Courier New',monospace\"><span style=\"font-weight: bold\"> Total params: </span><span style=\"color: #00af00; text-decoration-color: #00af00\">228,904</span> (894.16 KB)\n",
              "</pre>\n"
            ]
          },
          "metadata": {}
        },
        {
          "output_type": "display_data",
          "data": {
            "text/plain": [
              "\u001b[1m Trainable params: \u001b[0m\u001b[38;5;34m228,904\u001b[0m (894.16 KB)\n"
            ],
            "text/html": [
              "<pre style=\"white-space:pre;overflow-x:auto;line-height:normal;font-family:Menlo,'DejaVu Sans Mono',consolas,'Courier New',monospace\"><span style=\"font-weight: bold\"> Trainable params: </span><span style=\"color: #00af00; text-decoration-color: #00af00\">228,904</span> (894.16 KB)\n",
              "</pre>\n"
            ]
          },
          "metadata": {}
        },
        {
          "output_type": "display_data",
          "data": {
            "text/plain": [
              "\u001b[1m Non-trainable params: \u001b[0m\u001b[38;5;34m0\u001b[0m (0.00 B)\n"
            ],
            "text/html": [
              "<pre style=\"white-space:pre;overflow-x:auto;line-height:normal;font-family:Menlo,'DejaVu Sans Mono',consolas,'Courier New',monospace\"><span style=\"font-weight: bold\"> Non-trainable params: </span><span style=\"color: #00af00; text-decoration-color: #00af00\">0</span> (0.00 B)\n",
              "</pre>\n"
            ]
          },
          "metadata": {}
        }
      ],
      "execution_count": 17
    },
    {
      "cell_type": "code",
      "source": [
        "# Train the model\n",
        "history = model.fit(\n",
        "    x_train, y_train,\n",
        "    epochs=10,\n",
        "    batch_size=128,\n",
        "    validation_data=(x_test, y_test),\n",
        "    verbose=1\n",
        ")\n"
      ],
      "metadata": {
        "trusted": true,
        "execution": {
          "iopub.status.busy": "2024-12-25T15:51:23.458293Z",
          "iopub.execute_input": "2024-12-25T15:51:23.458647Z",
          "iopub.status.idle": "2024-12-25T15:53:37.384858Z",
          "shell.execute_reply.started": "2024-12-25T15:51:23.458614Z",
          "shell.execute_reply": "2024-12-25T15:53:37.383922Z"
        },
        "colab": {
          "base_uri": "https://localhost:8080/"
        },
        "id": "aFWQHhbgBqZF",
        "outputId": "df8ad178-20e4-4959-c31b-16bc141294a1"
      },
      "outputs": [
        {
          "output_type": "stream",
          "name": "stdout",
          "text": [
            "Epoch 1/10\n",
            "\u001b[1m222/222\u001b[0m \u001b[32m━━━━━━━━━━━━━━━━━━━━\u001b[0m\u001b[37m\u001b[0m \u001b[1m25s\u001b[0m 107ms/step - accuracy: 0.2496 - loss: 2.6901 - val_accuracy: 0.7508 - val_loss: 0.8474\n",
            "Epoch 2/10\n",
            "\u001b[1m222/222\u001b[0m \u001b[32m━━━━━━━━━━━━━━━━━━━━\u001b[0m\u001b[37m\u001b[0m \u001b[1m44s\u001b[0m 122ms/step - accuracy: 0.6356 - loss: 1.1636 - val_accuracy: 0.8572 - val_loss: 0.5076\n",
            "Epoch 3/10\n",
            "\u001b[1m222/222\u001b[0m \u001b[32m━━━━━━━━━━━━━━━━━━━━\u001b[0m\u001b[37m\u001b[0m \u001b[1m39s\u001b[0m 114ms/step - accuracy: 0.7470 - loss: 0.7961 - val_accuracy: 0.8822 - val_loss: 0.3825\n",
            "Epoch 4/10\n",
            "\u001b[1m222/222\u001b[0m \u001b[32m━━━━━━━━━━━━━━━━━━━━\u001b[0m\u001b[37m\u001b[0m \u001b[1m22s\u001b[0m 100ms/step - accuracy: 0.7923 - loss: 0.6560 - val_accuracy: 0.9047 - val_loss: 0.3055\n",
            "Epoch 5/10\n",
            "\u001b[1m222/222\u001b[0m \u001b[32m━━━━━━━━━━━━━━━━━━━━\u001b[0m\u001b[37m\u001b[0m \u001b[1m42s\u001b[0m 104ms/step - accuracy: 0.8308 - loss: 0.5344 - val_accuracy: 0.9213 - val_loss: 0.2633\n",
            "Epoch 6/10\n",
            "\u001b[1m222/222\u001b[0m \u001b[32m━━━━━━━━━━━━━━━━━━━━\u001b[0m\u001b[37m\u001b[0m \u001b[1m41s\u001b[0m 104ms/step - accuracy: 0.8467 - loss: 0.4772 - val_accuracy: 0.9281 - val_loss: 0.2342\n",
            "Epoch 7/10\n",
            "\u001b[1m222/222\u001b[0m \u001b[32m━━━━━━━━━━━━━━━━━━━━\u001b[0m\u001b[37m\u001b[0m \u001b[1m21s\u001b[0m 95ms/step - accuracy: 0.8611 - loss: 0.4340 - val_accuracy: 0.9324 - val_loss: 0.2223\n",
            "Epoch 8/10\n",
            "\u001b[1m222/222\u001b[0m \u001b[32m━━━━━━━━━━━━━━━━━━━━\u001b[0m\u001b[37m\u001b[0m \u001b[1m23s\u001b[0m 103ms/step - accuracy: 0.8757 - loss: 0.3963 - val_accuracy: 0.9387 - val_loss: 0.1931\n",
            "Epoch 9/10\n",
            "\u001b[1m222/222\u001b[0m \u001b[32m━━━━━━━━━━━━━━━━━━━━\u001b[0m\u001b[37m\u001b[0m \u001b[1m22s\u001b[0m 98ms/step - accuracy: 0.8890 - loss: 0.3424 - val_accuracy: 0.9426 - val_loss: 0.1735\n",
            "Epoch 10/10\n",
            "\u001b[1m222/222\u001b[0m \u001b[32m━━━━━━━━━━━━━━━━━━━━\u001b[0m\u001b[37m\u001b[0m \u001b[1m23s\u001b[0m 101ms/step - accuracy: 0.8951 - loss: 0.3180 - val_accuracy: 0.9492 - val_loss: 0.1638\n"
          ]
        }
      ],
      "execution_count": 18
    },
    {
      "cell_type": "code",
      "source": [
        "# Evaluate the model on the test set\n",
        "test_loss, test_accuracy = model.evaluate(x_test, y_test, verbose=0)\n",
        "print(f\"Test Accuracy: {test_accuracy * 100:.2f}%\")\n",
        "\n",
        "# Generate a classification report\n",
        "y_pred = np.argmax(model.predict(x_test), axis=1)\n",
        "y_true = np.argmax(y_test, axis=1)\n",
        "print(classification_report(y_true, y_pred))\n",
        "\n",
        "# Plot confusion matrix\n",
        "conf_matrix = confusion_matrix(y_true, y_pred)\n",
        "plt.figure(figsize=(8, 8))\n",
        "plt.imshow(conf_matrix, cmap='Blues')\n",
        "plt.title(\"Confusion Matrix\")\n",
        "plt.colorbar()\n",
        "plt.show()\n"
      ],
      "metadata": {
        "trusted": true,
        "execution": {
          "iopub.status.busy": "2024-12-25T15:53:37.386523Z",
          "iopub.execute_input": "2024-12-25T15:53:37.387327Z",
          "iopub.status.idle": "2024-12-25T15:53:39.672154Z",
          "shell.execute_reply.started": "2024-12-25T15:53:37.387252Z",
          "shell.execute_reply": "2024-12-25T15:53:39.670869Z"
        },
        "colab": {
          "base_uri": "https://localhost:8080/",
          "height": 1000
        },
        "id": "QRqu84H5BqZG",
        "outputId": "5bd99f55-52c3-473c-aba1-4ef3fe8b735c"
      },
      "outputs": [
        {
          "output_type": "stream",
          "name": "stdout",
          "text": [
            "Test Accuracy: 94.92%\n",
            "\u001b[1m153/153\u001b[0m \u001b[32m━━━━━━━━━━━━━━━━━━━━\u001b[0m\u001b[37m\u001b[0m \u001b[1m2s\u001b[0m 13ms/step\n",
            "              precision    recall  f1-score   support\n",
            "\n",
            "           0       0.95      0.97      0.96       145\n",
            "           1       0.97      0.97      0.97       145\n",
            "           2       0.96      0.91      0.94       145\n",
            "           3       0.94      0.97      0.96       145\n",
            "           4       0.87      0.94      0.90       145\n",
            "           5       0.97      0.92      0.95       145\n",
            "           6       0.92      0.90      0.91       145\n",
            "           7       0.93      0.86      0.90       145\n",
            "           8       0.93      0.93      0.93       145\n",
            "           9       0.90      0.95      0.93       145\n",
            "          10       0.93      0.97      0.95       115\n",
            "          11       0.99      0.95      0.97       110\n",
            "          12       0.98      0.92      0.95       110\n",
            "          13       0.96      0.96      0.96       100\n",
            "          14       0.91      0.92      0.92       100\n",
            "          15       0.89      0.95      0.92        95\n",
            "          16       0.95      0.98      0.97       100\n",
            "          17       0.96      0.94      0.95       115\n",
            "          18       0.93      0.98      0.96       130\n",
            "          19       0.95      0.96      0.96       105\n",
            "          20       0.96      0.93      0.94       100\n",
            "          21       0.98      0.93      0.95       129\n",
            "          22       0.93      0.97      0.95       133\n",
            "          23       1.00      0.98      0.99       124\n",
            "          24       0.93      0.98      0.95       143\n",
            "          25       0.98      0.95      0.97       117\n",
            "          26       0.93      0.95      0.94       123\n",
            "          27       0.96      0.95      0.95       122\n",
            "          28       0.95      0.95      0.95       132\n",
            "          29       0.99      0.96      0.98       127\n",
            "          30       0.96      0.97      0.97       110\n",
            "          31       0.99      0.99      0.99       110\n",
            "          32       0.97      0.92      0.94       110\n",
            "          33       0.90      0.97      0.93       110\n",
            "          34       0.97      0.93      0.95       110\n",
            "          35       0.97      0.97      0.97       110\n",
            "          36       0.98      0.93      0.95       110\n",
            "          37       0.92      0.98      0.95       110\n",
            "          38       0.97      0.94      0.95       110\n",
            "          39       1.00      0.99      1.00       110\n",
            "\n",
            "    accuracy                           0.95      4880\n",
            "   macro avg       0.95      0.95      0.95      4880\n",
            "weighted avg       0.95      0.95      0.95      4880\n",
            "\n"
          ]
        },
        {
          "output_type": "display_data",
          "data": {
            "text/plain": [
              "<Figure size 800x800 with 2 Axes>"
            ],
            "image/png": "[encoded data removed]"
          },
          "metadata": {}
        }
      ],
      "execution_count": 20
    },
    {
      "cell_type": "code",
      "source": [
        "# Save the model\n",
        "model.save('urdu_digit_recognition_model.h5')\n",
        "print(\"Model saved as urdu_digit_recognition_model.h5\")\n"
      ],
      "metadata": {
        "trusted": true,
        "execution": {
          "iopub.status.busy": "2024-12-25T15:53:39.673543Z",
          "iopub.execute_input": "2024-12-25T15:53:39.673992Z",
          "iopub.status.idle": "2024-12-25T15:53:39.723596Z",
          "shell.execute_reply.started": "2024-12-25T15:53:39.673955Z",
          "shell.execute_reply": "2024-12-25T15:53:39.722494Z"
        },
        "id": "3ABbtxdEBqZH"
      },
      "outputs": [],
      "execution_count": null
    },
    {
      "cell_type": "code",
      "source": [
        "# Create a link to download the trained model\n",
        "from IPython.display import FileLink\n",
        "FileLink('urdu_digit_recognition_model.h5')\n"
      ],
      "metadata": {
        "trusted": true,
        "execution": {
          "iopub.status.busy": "2024-12-25T15:53:39.725106Z",
          "iopub.execute_input": "2024-12-25T15:53:39.725978Z",
          "iopub.status.idle": "2024-12-25T15:53:39.733066Z",
          "shell.execute_reply.started": "2024-12-25T15:53:39.725926Z",
          "shell.execute_reply": "2024-12-25T15:53:39.731887Z"
        },
        "id": "djf78IqzBqZI"
      },
      "outputs": [],
      "execution_count": null
    },
    {
      "cell_type": "code",
      "source": [
        "# Display one test image and its prediction for each class\n",
        "for label in range(40):\n",
        "    index = np.where(y_true == label)[0][0]  # Get index of the first image for the class\n",
        "    test_image = x_test[index].reshape(1, 28, 28, 1)\n",
        "    predicted_label = np.argmax(model.predict(test_image), axis=1)[0]\n",
        "\n",
        "    plt.imshow(test_image.reshape(28, 28), cmap='gray')\n",
        "    plt.title(f\"True Label: {label}, Predicted: {predicted_label}\")\n",
        "    plt.show()\n"
      ],
      "metadata": {
        "trusted": true,
        "execution": {
          "iopub.status.busy": "2024-12-25T15:53:39.734522Z",
          "iopub.execute_input": "2024-12-25T15:53:39.735023Z",
          "iopub.status.idle": "2024-12-25T15:53:51.082969Z",
          "shell.execute_reply.started": "2024-12-25T15:53:39.734976Z",
          "shell.execute_reply": "2024-12-25T15:53:51.081861Z"
        },
        "id": "7hH5uwMvBqZJ"
      },
      "outputs": [],
      "execution_count": null
    },
    {
      "cell_type": "code",
      "source": [
        "!pip install scikeras"
      ],
      "metadata": {
        "trusted": true,
        "execution": {
          "iopub.status.busy": "2024-12-25T18:09:50.124758Z",
          "iopub.execute_input": "2024-12-25T18:09:50.125178Z",
          "iopub.status.idle": "2024-12-25T18:13:44.149586Z",
          "shell.execute_reply.started": "2024-12-25T18:09:50.125138Z",
          "shell.execute_reply": "2024-12-25T18:13:44.14829Z"
        },
        "colab": {
          "base_uri": "https://localhost:8080/"
        },
        "id": "6xvVdopJBqZJ",
        "outputId": "9883ad28-3df6-4ee9-f900-3783487d01f0"
      },
      "outputs": [
        {
          "output_type": "stream",
          "name": "stdout",
          "text": [
            "Collecting scikeras\n",
            "  Downloading scikeras-0.13.0-py3-none-any.whl.metadata (3.1 kB)\n",
            "Requirement already satisfied: keras>=3.2.0 in /usr/local/lib/python3.10/dist-packages (from scikeras) (3.5.0)\n",
            "Requirement already satisfied: scikit-learn>=1.4.2 in /usr/local/lib/python3.10/dist-packages (from scikeras) (1.6.0)\n",
            "Requirement already satisfied: absl-py in /usr/local/lib/python3.10/dist-packages (from keras>=3.2.0->scikeras) (1.4.0)\n",
            "Requirement already satisfied: numpy in /usr/local/lib/python3.10/dist-packages (from keras>=3.2.0->scikeras) (1.26.4)\n",
            "Requirement already satisfied: rich in /usr/local/lib/python3.10/dist-packages (from keras>=3.2.0->scikeras) (13.9.4)\n",
            "Requirement already satisfied: namex in /usr/local/lib/python3.10/dist-packages (from keras>=3.2.0->scikeras) (0.0.8)\n",
            "Requirement already satisfied: h5py in /usr/local/lib/python3.10/dist-packages (from keras>=3.2.0->scikeras) (3.12.1)\n",
            "Requirement already satisfied: optree in /usr/local/lib/python3.10/dist-packages (from keras>=3.2.0->scikeras) (0.13.1)\n",
            "Requirement already satisfied: ml-dtypes in /usr/local/lib/python3.10/dist-packages (from keras>=3.2.0->scikeras) (0.4.1)\n",
            "Requirement already satisfied: packaging in /usr/local/lib/python3.10/dist-packages (from keras>=3.2.0->scikeras) (24.2)\n",
            "Requirement already satisfied: scipy>=1.6.0 in /usr/local/lib/python3.10/dist-packages (from scikit-learn>=1.4.2->scikeras) (1.13.1)\n",
            "Requirement already satisfied: joblib>=1.2.0 in /usr/local/lib/python3.10/dist-packages (from scikit-learn>=1.4.2->scikeras) (1.4.2)\n",
            "Requirement already satisfied: threadpoolctl>=3.1.0 in /usr/local/lib/python3.10/dist-packages (from scikit-learn>=1.4.2->scikeras) (3.5.0)\n",
            "Requirement already satisfied: typing-extensions>=4.5.0 in /usr/local/lib/python3.10/dist-packages (from optree->keras>=3.2.0->scikeras) (4.12.2)\n",
            "Requirement already satisfied: markdown-it-py>=2.2.0 in /usr/local/lib/python3.10/dist-packages (from rich->keras>=3.2.0->scikeras) (3.0.0)\n",
            "Requirement already satisfied: pygments<3.0.0,>=2.13.0 in /usr/local/lib/python3.10/dist-packages (from rich->keras>=3.2.0->scikeras) (2.18.0)\n",
            "Requirement already satisfied: mdurl~=0.1 in /usr/local/lib/python3.10/dist-packages (from markdown-it-py>=2.2.0->rich->keras>=3.2.0->scikeras) (0.1.2)\n",
            "Downloading scikeras-0.13.0-py3-none-any.whl (26 kB)\n",
            "Installing collected packages: scikeras\n",
            "Successfully installed scikeras-0.13.0\n"
          ]
        }
      ],
      "execution_count": 5
    },
    {
      "cell_type": "markdown",
      "source": [
        "Ensembling is a technique in machine learning where multiple models (also called \"learners\") are combined to improve the overall performance of a predictive model. The idea behind ensembling is that by combining the predictions from several models, the resulting prediction will likely be more accurate and robust than the predictions of a single model.\n",
        "\n",
        "What is Ensembling?\n",
        "In ensembling, we take multiple models and combine their predictions in a way that minimizes errors and biases. The main objective is to leverage the strengths of each model and mitigate their weaknesses. There are several popular methods for ensembling:\n",
        "\n",
        "Bagging (Bootstrap Aggregating): In this method, multiple models (typically of the same type) are trained on different subsets of the data, generated through bootstrapping (random sampling with replacement). The final prediction is made by averaging the predictions of the individual models (for regression tasks) or taking a majority vote (for classification tasks). One famous example of bagging is the Random Forest algorithm.\n",
        "\n",
        "Boosting: In boosting, models are trained sequentially, with each model trying to correct the errors made by the previous models. The predictions are then combined in a weighted manner, with more weight given to models that perform better. Examples of boosting algorithms include AdaBoost and Gradient Boosting.\n",
        "\n",
        "Stacking: This involves training multiple models (often of different types) and then using another model to combine their predictions. The second model, also known as the meta-model, learns how to best combine the predictions of the base models.\n",
        "\n",
        "Voting: In the voting method, multiple models are trained independently, and their predictions are combined using a voting mechanism (either hard or soft voting). In hard voting, the class with the majority vote is selected, while in soft voting, the class with the highest probability is chosen.\n",
        "\n",
        "Why are we using Ensembling?\n",
        "Ensembling improves the accuracy and robustness of machine learning models by reducing variance and bias. Here's why it's useful:\n",
        "\n",
        "Reduces Overfitting: By combining multiple models, ensemble methods tend to be less sensitive to the specific training data, which helps to reduce overfitting. For example, bagging methods like Random Forest are known to be less prone to overfitting compared to individual decision trees.\n",
        "\n",
        "Improves Generalization: Combining multiple models that may have different strengths leads to better generalization on unseen data. While one model may be overfitting on certain aspects of the data, the ensemble method can balance the model's predictions and produce better results.\n",
        "\n",
        "Handles Model Weaknesses: Each model in an ensemble may have its own strengths and weaknesses. Some models may excel in detecting certain patterns, while others might struggle. By combining them, we create a more reliable and well-rounded predictive model.\n",
        "\n",
        "Increases Performance: Ensembling often leads to better performance compared to using a single model, especially when the models are diverse and make different types of errors.\n",
        "\n",
        "Why am I using Ensembling?\n",
        "In the context of this project, I am using ensembling to improve the performance of a classification task involving the Urdu Handwritten Text dataset. The idea is to combine the predictions of multiple Convolutional Neural Network (CNN) models, each of which may have learned different aspects of the data. By using ensembling, I aim to:\n",
        "\n",
        "Increase the accuracy of the model by combining the predictions of multiple CNN models.\n",
        "Reduce overfitting by leveraging different training sets and model architectures.\n",
        "Enhance robustness by ensuring that different models can complement each other, making the overall system more reliable.\n",
        "The ensemble model is a Voting Classifier that combines three different CNN models using soft voting. This technique will provide a more accurate and generalized model for recognizing handwritten Urdu characters.\n"
      ],
      "metadata": {
        "id": "5YJMNp5rBqZK"
      }
    },
    {
      "cell_type": "code",
      "source": [
        "import zipfile\n",
        "with zipfile.ZipFile('/content/uhat_dataset.npz', 'r') as zip_ref:\n",
        "    zip_ref.testzip()\n"
      ],
      "metadata": {
        "id": "UUdLVrMSGThi"
      },
      "execution_count": 9,
      "outputs": []
    },
    {
      "cell_type": "code",
      "source": [
        "import numpy as np\n",
        "import tensorflow as tf\n",
        "from tensorflow.keras.models import Sequential\n",
        "from tensorflow.keras.layers import Conv2D, MaxPooling2D, Flatten, Dense, Dropout\n",
        "from tensorflow.keras.utils import to_categorical\n",
        "from sklearn.metrics import classification_report, confusion_matrix\n",
        "import matplotlib.pyplot as plt\n",
        "from scikeras.wrappers import KerasClassifier\n",
        "import zipfile\n",
        "\n",
        "# Load the dataset\n",
        "zip_file_path = '/content/uhat_dataset.npz'\n",
        "\n",
        "with zipfile.ZipFile(zip_file_path, 'r') as zip_ref:\n",
        "    bad_file = zip_ref.testzip()\n",
        "    if bad_file is None:\n",
        "        print(\"The file is a valid zip file.\")\n",
        "    else:\n",
        "        print(f\"Corrupted file: {bad_file}\")\n",
        "\n",
        "data = np.load(zip_file_path)\n",
        "x_train = data['x_chars_train']\n",
        "x_test = data['x_chars_test']\n",
        "y_train = data['y_chars_train']\n",
        "y_test = data['y_chars_test']\n",
        "\n",
        "# Normalize the pixel values\n",
        "x_train = x_train / 255.0\n",
        "x_test = x_test / 255.0\n",
        "\n",
        "# Reshape the data\n",
        "x_train = x_train.reshape(-1, 28, 28, 1)\n",
        "x_test = x_test.reshape(-1, 28, 28, 1)\n",
        "\n",
        "# One-hot encode the labels\n",
        "y_train = to_categorical(y_train, num_classes=40)\n",
        "y_test = to_categorical(y_test, num_classes=40)\n",
        "\n",
        "print(\"Dataset loaded and processed successfully.\")\n",
        "\n",
        "# Define function to create a CNN model\n",
        "def create_model():\n",
        "    model = Sequential([\n",
        "        Conv2D(32, (3, 3), activation='relu', input_shape=(28, 28, 1)),\n",
        "        MaxPooling2D((2, 2)),\n",
        "        Conv2D(64, (3, 3), activation='relu'),\n",
        "        MaxPooling2D((2, 2)),\n",
        "        Flatten(),\n",
        "        Dense(128, activation='relu'),\n",
        "        Dropout(0.5),\n",
        "        Dense(40, activation='softmax')\n",
        "    ])\n",
        "    model.compile(optimizer='adam', loss='categorical_crossentropy', metrics=['accuracy'])\n",
        "    return model\n",
        "\n",
        "# Create individual models\n",
        "model1 = create_model()\n",
        "model2 = create_model()\n",
        "model3 = create_model()\n",
        "\n",
        "# Train each model\n",
        "model1.fit(x_train, y_train, epochs=10, batch_size=128, verbose=0)\n",
        "model2.fit(x_train, y_train, epochs=10, batch_size=128, verbose=0)\n",
        "model3.fit(x_train, y_train, epochs=10, batch_size=128, verbose=0)\n",
        "\n",
        "# Predict with each model\n",
        "y_pred_1 = model1.predict(x_test)\n",
        "y_pred_2 = model2.predict(x_test)\n",
        "y_pred_3 = model3.predict(x_test)\n",
        "\n",
        "# Average the predictions (soft voting)\n",
        "y_pred_ensemble = np.argmax((y_pred_1 + y_pred_2 + y_pred_3) / 3, axis=1)\n",
        "\n",
        "# Evaluate ensemble\n",
        "print(f\"Ensemble Test Accuracy: {np.mean(np.argmax(y_test, axis=1) == y_pred_ensemble) * 100:.2f}%\")\n",
        "\n",
        "# Generate classification report\n",
        "print(classification_report(np.argmax(y_test, axis=1), y_pred_ensemble))\n",
        "\n",
        "# Confusion matrix\n",
        "conf_matrix_ensemble = confusion_matrix(np.argmax(y_test, axis=1), y_pred_ensemble)\n",
        "plt.figure(figsize=(8, 8))\n",
        "plt.imshow(conf_matrix_ensemble, cmap='Blues')\n",
        "plt.title(\"Confusion Matrix (Ensemble)\")\n",
        "plt.colorbar()\n",
        "plt.show()\n",
        "\n",
        "# Save the models\n",
        "model1.save('cnn_model1.h5')\n",
        "model2.save('cnn_model2.h5')\n",
        "model3.save('cnn_model3.h5')\n",
        "print(\"Individual models saved.\")\n"
      ],
      "metadata": {
        "trusted": true,
        "execution": {
          "iopub.status.busy": "2024-12-25T18:08:29.095023Z",
          "iopub.execute_input": "2024-12-25T18:08:29.095733Z",
          "iopub.status.idle": "2024-12-25T18:08:45.086932Z",
          "shell.execute_reply.started": "2024-12-25T18:08:29.095678Z",
          "shell.execute_reply": "2024-12-25T18:08:45.085413Z"
        },
        "colab": {
          "base_uri": "https://localhost:8080/",
          "height": 1000
        },
        "id": "wjtdo57kBqZL",
        "outputId": "bc85ea95-9988-45ce-f96e-dfdeb284a9a2"
      },
      "outputs": [
        {
          "output_type": "stream",
          "name": "stdout",
          "text": [
            "The file is a valid zip file.\n",
            "Dataset loaded and processed successfully.\n"
          ]
        },
        {
          "output_type": "stream",
          "name": "stderr",
          "text": [
            "/usr/local/lib/python3.10/dist-packages/keras/src/layers/convolutional/base_conv.py:107: UserWarning: Do not pass an `input_shape`/`input_dim` argument to a layer. When using Sequential models, prefer using an `Input(shape)` object as the first layer in the model instead.\n",
            "  super().__init__(activity_regularizer=activity_regularizer, **kwargs)\n"
          ]
        },
        {
          "output_type": "stream",
          "name": "stdout",
          "text": [
            "\u001b[1m153/153\u001b[0m \u001b[32m━━━━━━━━━━━━━━━━━━━━\u001b[0m\u001b[37m\u001b[0m \u001b[1m1s\u001b[0m 8ms/step\n",
            "\u001b[1m153/153\u001b[0m \u001b[32m━━━━━━━━━━━━━━━━━━━━\u001b[0m\u001b[37m\u001b[0m \u001b[1m1s\u001b[0m 7ms/step\n",
            "\u001b[1m153/153\u001b[0m \u001b[32m━━━━━━━━━━━━━━━━━━━━\u001b[0m\u001b[37m\u001b[0m \u001b[1m1s\u001b[0m 8ms/step\n",
            "Ensemble Test Accuracy: 95.64%\n",
            "              precision    recall  f1-score   support\n",
            "\n",
            "           0       0.96      0.96      0.96       145\n",
            "           1       0.99      0.97      0.98       145\n",
            "           2       0.96      0.94      0.95       145\n",
            "           3       0.96      0.96      0.96       145\n",
            "           4       0.85      0.95      0.90       145\n",
            "           5       0.97      0.97      0.97       145\n",
            "           6       0.98      0.87      0.92       145\n",
            "           7       0.94      0.90      0.92       145\n",
            "           8       0.95      0.94      0.95       145\n",
            "           9       0.95      0.95      0.95       145\n",
            "          10       0.97      0.97      0.97       115\n",
            "          11       0.95      0.95      0.95       110\n",
            "          12       0.98      0.93      0.95       110\n",
            "          13       0.93      0.97      0.95       100\n",
            "          14       0.92      0.94      0.93       100\n",
            "          15       0.92      0.95      0.93        95\n",
            "          16       0.94      1.00      0.97       100\n",
            "          17       0.97      0.95      0.96       115\n",
            "          18       0.98      0.98      0.98       130\n",
            "          19       0.97      0.98      0.98       105\n",
            "          20       0.97      0.95      0.96       100\n",
            "          21       1.00      0.95      0.98       129\n",
            "          22       0.98      0.98      0.98       133\n",
            "          23       0.99      0.99      0.99       124\n",
            "          24       0.95      0.98      0.97       143\n",
            "          25       0.97      0.95      0.96       117\n",
            "          26       0.95      0.96      0.96       123\n",
            "          27       0.95      0.96      0.96       122\n",
            "          28       0.94      0.95      0.94       132\n",
            "          29       0.98      0.95      0.97       127\n",
            "          30       0.98      0.95      0.97       110\n",
            "          31       0.96      0.99      0.97       110\n",
            "          32       0.93      0.93      0.93       110\n",
            "          33       0.93      0.99      0.96       110\n",
            "          34       0.95      0.94      0.94       110\n",
            "          35       0.96      0.97      0.97       110\n",
            "          36       0.96      0.95      0.95       110\n",
            "          37       0.96      0.98      0.97       110\n",
            "          38       0.95      0.96      0.95       110\n",
            "          39       0.98      1.00      0.99       110\n",
            "\n",
            "    accuracy                           0.96      4880\n",
            "   macro avg       0.96      0.96      0.96      4880\n",
            "weighted avg       0.96      0.96      0.96      4880\n",
            "\n"
          ]
        },
        {
          "output_type": "display_data",
          "data": {
            "text/plain": [
              "<Figure size 800x800 with 2 Axes>"
            ],
            "image/png": "[encoded data removed]"
          },
          "metadata": {}
        },
        {
          "output_type": "stream",
          "name": "stderr",
          "text": [
            "WARNING:absl:You are saving your model as an HDF5 file via `model.save()` or `keras.saving.save_model(model)`. This file format is considered legacy. We recommend using instead the native Keras format, e.g. `model.save('my_model.keras')` or `keras.saving.save_model(model, 'my_model.keras')`. \n",
            "WARNING:absl:You are saving your model as an HDF5 file via `model.save()` or `keras.saving.save_model(model)`. This file format is considered legacy. We recommend using instead the native Keras format, e.g. `model.save('my_model.keras')` or `keras.saving.save_model(model, 'my_model.keras')`. \n",
            "WARNING:absl:You are saving your model as an HDF5 file via `model.save()` or `keras.saving.save_model(model)`. This file format is considered legacy. We recommend using instead the native Keras format, e.g. `model.save('my_model.keras')` or `keras.saving.save_model(model, 'my_model.keras')`. \n"
          ]
        },
        {
          "output_type": "stream",
          "name": "stdout",
          "text": [
            "Individual models saved.\n"
          ]
        }
      ],
      "execution_count": 14
    },
    {
      "cell_type": "code",
      "source": [],
      "metadata": {
        "trusted": true,
        "id": "qNcfF60CBqZN"
      },
      "outputs": [],
      "execution_count": null
    }
  ]
}